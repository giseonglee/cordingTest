{
 "cells": [
  {
   "cell_type": "code",
   "execution_count": null,
   "metadata": {},
   "outputs": [],
   "source": [
    "# pay = 총급여\n",
    "# miniUseCard = 카드소득공제 최저사용금액\n",
    "# taxBase = 적용과세표준\n",
    "# myUseCard = 나의 연간 카드사용금액(신용 + 체크)\n",
    "# deduction = 실제 공제대상\n",
    "# benefit = 세제혜택"
   ]
  },
  {
   "cell_type": "code",
   "execution_count": 18,
   "metadata": {},
   "outputs": [
    {
     "name": "stdout",
     "output_type": "stream",
     "text": [
      "15.0\n"
     ]
    }
   ],
   "source": [
    "pay = int(input())\n",
    "miniUseCard = round(pay/4)\n",
    "taxBase = 0\n",
    "\n",
    "if pay <=12000000:\n",
    "    taxBase = int(6/100)\n",
    "elif pay <= 46000000:\n",
    "    taxBase = int(15/100)\n",
    "elif pay <= 88000000:\n",
    "    taxBase = 24/100\n",
    "elif pay <= 150000000:\n",
    "    taxBase = 25/100\n",
    "elif pay <= 300000000:\n",
    "    taxBase = 38/100\n",
    "elif pay < 500000000:\n",
    "    taxBase = 40/100\n",
    "else :\n",
    "    taxBase = 42/100\n",
    "\n",
    "print(taxBase*100)"
   ]
  },
  {
   "cell_type": "code",
   "execution_count": null,
   "metadata": {},
   "outputs": [],
   "source": []
  }
 ],
 "metadata": {
  "kernelspec": {
   "display_name": "Python 3.6.8 64-bit",
   "language": "python",
   "name": "python3"
  },
  "language_info": {
   "codemirror_mode": {
    "name": "ipython",
    "version": 3
   },
   "file_extension": ".py",
   "mimetype": "text/x-python",
   "name": "python",
   "nbconvert_exporter": "python",
   "pygments_lexer": "ipython3",
   "version": "3.6.8"
  },
  "orig_nbformat": 4,
  "vscode": {
   "interpreter": {
    "hash": "e7dff6d6756ebd534272ee0cdbfdbb937c2ebefba2262f1fc386a8adf8b4886d"
   }
  }
 },
 "nbformat": 4,
 "nbformat_minor": 2
}
